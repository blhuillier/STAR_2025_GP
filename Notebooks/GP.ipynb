{
 "cells": [
  {
   "cell_type": "markdown",
   "id": "66a44f5a",
   "metadata": {},
   "source": [
    "[![Open In Colab](https://colab.research.google.com/assets/colab-badge.svg)](\n",
    "https://colab.research.google.com/github/blhuillier/STAR_2025_GP/blob/main/Notebooks/GP.ipynb\n",
    ")"
   ]
  },
  {
   "cell_type": "markdown",
   "id": "185db6e1",
   "metadata": {},
   "source": [
    "# Gaussian Process Regression\n",
    "\n",
    "In this notebook, we will  implement a simple GP and apply it to a basic data set"
   ]
  },
  {
   "cell_type": "code",
   "execution_count": null,
   "id": "060cf392",
   "metadata": {},
   "outputs": [],
   "source": [
    "import numpy as np\n",
    "from scipy import stats\n",
    "import matplotlib.pyplot as plt"
   ]
  },
  {
   "cell_type": "markdown",
   "id": "fcc47930",
   "metadata": {},
   "source": [
    "# Generate Dataset"
   ]
  },
  {
   "cell_type": "code",
   "execution_count": null,
   "id": "3c746c8b",
   "metadata": {},
   "outputs": [],
   "source": [
    "# generate data\n",
    "\n",
    "aa = 1\n",
    "bb = 1\n",
    "kk = 1\n",
    "\n",
    "def func(xx,aa=1,bb=1,kk=1):\n",
    "  return aa*xx + bb + np.sin(kk*xx)\n",
    "\n",
    "NN = 30\n",
    "seed = 0\n",
    "r = np.random.RandomState(seed)\n",
    "\n",
    "XX = r.uniform(0,10,size=NN)\n",
    "print (XX)\n",
    "\n",
    "# Noise\n",
    "sigma = 1\n",
    "noise = sigma*r.randn(NN)\n",
    "# data\n",
    "YY = func(XX)+noise\n",
    "# Test points:\n",
    "nstar = 201\n",
    "Xstar = np.linspace(0,10,num=nstar)\n"
   ]
  },
  {
   "cell_type": "code",
   "execution_count": null,
   "id": "cb7f1ff5",
   "metadata": {},
   "outputs": [],
   "source": [
    "fig,ax = plt.subplots(1)\n",
    "ax.errorbar(XX,YY,yerr=sigma,ls='',marker='.')\n",
    "ax.plot(Xstar,func(Xstar),ls=':',label='$f(x)$')\n",
    "ax.legend()\n",
    "ax.set_xlabel('x')\n",
    "ax.set_ylabel('y')"
   ]
  },
  {
   "cell_type": "markdown",
   "id": "4a393a6c",
   "metadata": {},
   "source": [
    "# Create a Kernel Class\n",
    "\n",
    "For now, let's just use the squared exponential "
   ]
  },
  {
   "cell_type": "code",
   "execution_count": null,
   "id": "ab9d98ae",
   "metadata": {},
   "outputs": [],
   "source": [
    "class Kernel():\n",
    "  def __init__(self,sigma_f,lf):\n",
    "    \"\"\"Initialize the kernel with parameters sigma_f and lf.\n",
    "    \"\"\"\n",
    "\n",
    "    return\n",
    "\n",
    "  def k(self,xx,yy):\n",
    "    \"\"\"Compute the kernel function between two sets of inputs.\n",
    "\n",
    "    Args:\n",
    "        xx (np.float or np.ndarray): argument 1\n",
    "        yy (np.float or np.ndarray): argument 2\n",
    "    \"\"\"\n",
    "    return  \n",
    "\n",
    "\n"
   ]
  },
  {
   "cell_type": "code",
   "execution_count": null,
   "id": "ffee8144",
   "metadata": {},
   "outputs": [],
   "source": [
    "class GP():\n",
    "    \"\"\"Gaussian Process Class\n",
    "    This class implements a Gaussian Process with a specified kernel.\n",
    "    Attributes:\n",
    "        kernel (Kernel): The kernel function used in the GP.\n",
    "        X (np.ndarray): Training inputs.\n",
    "        y (np.ndarray): Training outputs.\n",
    "        \n",
    "    \"\"\"\n",
    "    \n",
    "    def __init__(self,):\n",
    "        \"\"\"Initialize the Gaussian Process with a kernel and training data.\n",
    "        \n",
    "        Args:\n",
    "        \"\"\"\n",
    "        return\n",
    "        \n",
    "    def do_regression(self,):\n",
    "        \"\"\"Perform regression using the Gaussian Process.\n",
    "        \n",
    "        Args:\n",
    "            X (np.ndarray): Training inputs.\n",
    "            y (np.ndarray): Training outputs.\n",
    "        \"\"\"\n",
    "        return"
   ]
  },
  {
   "cell_type": "markdown",
   "id": "2dc00939",
   "metadata": {},
   "source": [
    "# Now, perform the GP Regression"
   ]
  },
  {
   "cell_type": "code",
   "execution_count": null,
   "id": "6cb9036f",
   "metadata": {},
   "outputs": [],
   "source": [
    "# Data Covariance\n",
    "sigma_f = 2\n",
    "lf = 2\n",
    "K = Kernel(sigma_f,lf)\n",
    "\n",
    "gp = GP(x=XX,y=YY,sigma=sigma,kernel=K)\n",
    "gp.do_regression(xstar=Xstar,kernel=K)"
   ]
  },
  {
   "cell_type": "code",
   "execution_count": null,
   "id": "b8db0200",
   "metadata": {},
   "outputs": [],
   "source": []
  }
 ],
 "metadata": {
  "kernelspec": {
   "display_name": "base",
   "language": "python",
   "name": "python3"
  },
  "language_info": {
   "codemirror_mode": {
    "name": "ipython",
    "version": 3
   },
   "file_extension": ".py",
   "mimetype": "text/x-python",
   "name": "python",
   "nbconvert_exporter": "python",
   "pygments_lexer": "ipython3",
   "version": "3.12.11"
  }
 },
 "nbformat": 4,
 "nbformat_minor": 5
}
