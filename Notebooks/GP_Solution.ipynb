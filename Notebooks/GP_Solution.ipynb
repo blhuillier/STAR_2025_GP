{
  "cells": [
    {
      "cell_type": "markdown",
      "metadata": {},
      "source": [
        "[![Open In Colab](https://colab.research.google.com/assets/colab-badge.svg)](\n",
        "https://colab.research.google.com/github/blhuillier/STAR_2025_GP/blob/main/Notebooks/GP_solution.ipynb\n",
        ")"
      ]
    },
    {
      "cell_type": "markdown",
      "metadata": {},
      "source": [
        "# Gaussian Process Regression\n",
        "\n",
        "In this notebook, we will  implement a simple GP and apply it to a basic data set"
      ]
    },
    {
      "cell_type": "code",
      "execution_count": 1,
      "metadata": {},
      "outputs": [],
      "source": [
        "import numpy as np\n",
        "from scipy import stats\n",
        "import matplotlib.pyplot as plt"
      ]
    },
    {
      "cell_type": "markdown",
      "metadata": {},
      "source": [
        "# Generate Dataset"
      ]
    },
    {
      "cell_type": "code",
      "execution_count": 2,
      "metadata": {},
      "outputs": [
        {
          "name": "stdout",
          "output_type": "stream",
          "text": [
            "[5.48813504 7.15189366 6.02763376 5.44883183 4.23654799 6.45894113\n",
            " 4.37587211 8.91773001 9.63662761 3.83441519 7.91725038 5.2889492\n",
            " 5.68044561 9.25596638 0.71036058 0.871293   0.20218397 8.32619846\n",
            " 7.78156751 8.70012148 9.78618342 7.99158564 4.61479362 7.80529176\n",
            " 1.18274426 6.39921021 1.43353287 9.44668917 5.21848322 4.1466194 ]\n"
          ]
        }
      ],
      "source": [
        "# generate data\n",
        "\n",
        "aa = 1\n",
        "bb = 1\n",
        "kk = 1\n",
        "\n",
        "def func(xx,aa=1,bb=1,kk=1):\n",
        "  return aa*xx + bb + np.sin(kk*xx)\n",
        "\n",
        "NN = 30\n",
        "seed = 0\n",
        "r = np.random.RandomState(seed)\n",
        "\n",
        "XX = r.uniform(0,10,size=NN)\n",
        "print (XX)\n",
        "\n",
        "# Noise\n",
        "sigma = 1\n",
        "noise = sigma*r.randn(NN)\n",
        "# data\n",
        "YY = func(XX)+noise\n",
        "# Test points:\n",
        "nstar = 201\n",
        "Xstar = np.linspace(0,10,num=nstar)\n"
      ]
    },
    {
      "cell_type": "code",
      "execution_count": 3,
      "metadata": {},
      "outputs": [
        {
          "data": {
            "text/plain": [
              "Text(0, 0.5, 'y')"
            ]
          },
          "execution_count": 3,
          "metadata": {},
          "output_type": "execute_result"
        },
        {
          "data": {
            "image/png": "[encoded data removed]",
            "text/plain": [
              "<Figure size 640x480 with 1 Axes>"
            ]
          },
          "metadata": {},
          "output_type": "display_data"
        }
      ],
      "source": [
        "fig,ax = plt.subplots(1)\n",
        "ax.errorbar(XX,YY,yerr=sigma,ls='',marker='.')\n",
        "ax.plot(Xstar,func(Xstar),ls=':',label='$f(x)$')\n",
        "ax.legend()\n",
        "ax.set_xlabel('x')\n",
        "ax.set_ylabel('y')"
      ]
    },
    {
      "cell_type": "markdown",
      "metadata": {},
      "source": [
        "# Create a Kernel Class\n",
        "\n",
        "For now, let's just use the squared exponential \n",
        "\n",
        "\n",
        "* We need a constructor method: \\_\\_init\\_\\_(self, sigma_f, lf)  \n",
        "* A k(self,x1,x2) method\n",
        "\n",
        "We need to make x1(n1,1) and x2(1,x2), so taht k(x1,x2) has shape (n1,n2)"
      ]
    },
    {
      "cell_type": "code",
      "execution_count": null,
      "metadata": {
        "id": "vn6zUbpK-kAd"
      },
      "outputs": [],
      "source": [
        "class Kernel():\n",
        "  def __init__(self,sigma_f,lf):\n",
        "    \"\"\"Initialize the kernel with parameters sigma_f and lf.\n",
        "    \"\"\"\n",
        "    self.lf = lf\n",
        "    self.sigma_f = sigma_f\n",
        "\n",
        "  def k(self,x1,y2):\n",
        "    \"\"\"Compute the kernel function between two sets of inputs.\n",
        "\n",
        "    Args:\n",
        "        x1 (np.float or np.ndarray): argument 1\n",
        "        y2 (np.float or np.ndarray): argument 2\n",
        "    \"\"\"\n",
        "    if np.isscalar(x1):\n",
        "      x1 = np.array([[x1]])[:,np.newaxis]\n",
        "    n1,n11 = x1.shape\n",
        "    assert n11 == 1, \"x1 should be a column vector\"\n",
        "\n",
        "    if np.isscalar(y2):\n",
        "      y2 = np.array([[y2]])[np.newaxis,:]\n",
        "    n22, n2 = y2.shape\n",
        "    assert n22 == 1, \"y2 should be a column vector\" \n",
        "    return self.sigma_f**2 * np.exp(-.5*(x1-y2)**2/self.lf**2)\n",
        "\n",
        "\n"
      ]
    },
    {
      "cell_type": "markdown",
      "metadata": {},
      "source": [
        "# Create a GP class"
      ]
    },
    {
      "cell_type": "code",
      "execution_count": 8,
      "metadata": {
        "id": "bCOK6FsDUlMB"
      },
      "outputs": [],
      "source": [
        "class GP():\n",
        "  def __init__(self,x,y,sigma,kernel):\n",
        "    self.x = x\n",
        "    self.y = y\n",
        "    self.sigma = sigma\n",
        "    self.kernel = kernel\n",
        "    self.n = len(x)\n",
        "    return\n",
        "\n",
        "  def do_regression(self,xstar,mean=0,meanstar=0):\n",
        "    '''Perform the actual GP regression\n",
        "    input:\n",
        "    xstar: test points\n",
        "    kernel: Kernel isntance\n",
        "    mean: prior mean function (m(x))\n",
        "    meanstar: prior mean function m*(x*)\n",
        "    '''\n",
        "    nstar = len(xstar)\n",
        "    # this has sahpe (n,n)\n",
        "    KK = self.kernel.k(\n",
        "        self.x[:,np.newaxis],\n",
        "        self.x[np.newaxis,:]\n",
        "      )\n",
        "\n",
        "\n",
        "    # This has shape (n*,n)\n",
        "    Kstar = self.kernel.k(\n",
        "        Xstar[:,np.newaxis],\n",
        "        self.x[np.newaxis,:]\n",
        "    )\n",
        "\n",
        "    # This has shape (n*,n*)\n",
        "    Kstarstar = self.kernel.k(\n",
        "        Xstar[:,np.newaxis],\n",
        "        Xstar[np.newaxis,:]\n",
        "    )\n",
        "    # This is K+sigma^2 I:\n",
        "    KC = KK + sigma**2*np.eye(NN)\n",
        "    LL = np.linalg.cholesky(KC)\n",
        "    # print(LL)\n",
        "    alpha = np.linalg.solve(\n",
        "        LL.T,\n",
        "        np.linalg.solve(LL,YY)\n",
        "    )\n",
        "\n",
        "\n",
        "    self.fstar = Kstar@alpha\n",
        "    # vv = np.linalg.solve (Kstar,LL)\n",
        "\n",
        "    vv = np.array([np.linalg.solve(LL,Kstar[ii,:]) for ii in range(nstar)])\n",
        "    self.Cstar = Kstarstar - vv@vv.T\n",
        "    self.sigmastar = np.sqrt(np.diag(self.Cstar))\n",
        "\n",
        "    self.LML = -.5*YY.T@alpha - np.linalg.slogdet(LL)[1] - NN/2*np.log(2*np.pi)\n",
        "    \n",
        "    # sigmaf: 2, lf: 2: LML: -68.24408191515852\n",
        "    # lf = 0.5: LML = -93.14685243016704\n",
        "\n"
      ]
    },
    {
      "cell_type": "markdown",
      "metadata": {},
      "source": [
        "# Perform the Regression"
      ]
    },
    {
      "cell_type": "code",
      "execution_count": 9,
      "metadata": {
        "id": "-xC2QRrWAcgv"
      },
      "outputs": [],
      "source": [
        "# Data Covariance\n",
        "sigma_f = 2\n",
        "lf = 2\n",
        "K = Kernel(sigma_f,lf)"
      ]
    },
    {
      "cell_type": "code",
      "execution_count": 10,
      "metadata": {
        "colab": {
          "base_uri": "https://localhost:8080/"
        },
        "id": "0th63JlJF2HP",
        "outputId": "56b06098-18d3-4440-ceea-c78bcb6ecdab"
      },
      "outputs": [],
      "source": [
        "\n",
        "gp = GP(x=XX,y=YY,sigma=sigma,kernel=K)\n",
        "gp.do_regression(xstar=Xstar)\n",
        "fstar = gp.fstar\n",
        "Cstar = gp.Cstar\n",
        "sigmastar = np.sqrt(np.diag(Cstar))"
      ]
    },
    {
      "cell_type": "markdown",
      "metadata": {},
      "source": [
        "# Plot the results"
      ]
    },
    {
      "cell_type": "code",
      "execution_count": 11,
      "metadata": {
        "colab": {
          "base_uri": "https://localhost:8080/",
          "height": 447
        },
        "id": "Vd5Ai1VFGxxl",
        "outputId": "92558f8e-ae70-44fb-e4ad-bb8361121bdc"
      },
      "outputs": [
        {
          "data": {
            "text/plain": [
              "<matplotlib.legend.Legend at 0x146e71df0>"
            ]
          },
          "execution_count": 11,
          "metadata": {},
          "output_type": "execute_result"
        },
        {
          "data": {
            "image/png": "[encoded data removed]",
            "text/plain": [
              "<Figure size 640x480 with 1 Axes>"
            ]
          },
          "metadata": {},
          "output_type": "display_data"
        }
      ],
      "source": [
        "\n",
        "fig,ax = plt.subplots(1)\n",
        "ax.errorbar(XX,YY,yerr=sigma,ls='',marker='.')\n",
        "ax.plot(Xstar,func(Xstar),ls=':',label='Truth')\n",
        "ax.plot(Xstar,fstar,label='$f_*$')\n",
        "ax.fill_between(Xstar,fstar+sigmastar,fstar-sigmastar,alpha=.3)\n",
        "ax.legend()"
      ]
    },
    {
      "cell_type": "code",
      "execution_count": null,
      "metadata": {
        "id": "piJp8aInHcGM"
      },
      "outputs": [],
      "source": []
    }
  ],
  "metadata": {
    "colab": {
      "provenance": []
    },
    "kernelspec": {
      "display_name": "base",
      "language": "python",
      "name": "python3"
    },
    "language_info": {
      "codemirror_mode": {
        "name": "ipython",
        "version": 3
      },
      "file_extension": ".py",
      "mimetype": "text/x-python",
      "name": "python",
      "nbconvert_exporter": "python",
      "pygments_lexer": "ipython3",
      "version": "3.12.11"
    }
  },
  "nbformat": 4,
  "nbformat_minor": 0
}
